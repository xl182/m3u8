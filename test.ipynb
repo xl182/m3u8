{
 "cells": [
  {
   "cell_type": "code",
   "execution_count": 3,
   "metadata": {
    "collapsed": false,
    "pycharm": {
     "name": "#%%\n"
    }
   },
   "outputs": [
    {
     "name": "stdout",
     "output_type": "stream",
     "text": [
      "\"D:/Program Files/Anaconda3/envs/tool/Scripts/pyrcc5.exe\"  ../res/resource.qrc -o ../res/resource_rc.py\n",
      "replaced ui_downloader.py\n",
      "replaced ui_stateWidget.py\n",
      "m3u8 url: https://t4t5t6t7.cdn2020.com/video/m3u8/2020/08/14/1efad6ff/index.m3u8\n",
      "downloading m3u8 file...\n",
      "get key\n",
      "get iv...\n",
      "get ts url...\n",
      "mode: simple analysis\n",
      "ts url list:, ['https://t4t5t6t7.cdn2020.com/video/m3u8/2020/08/14/1efad6ff/0000.ts', 'https://t4t5t6t7.cdn2020.com/video/m3u8/2020/08/14/1efad6ff/0001.ts', 'https://t4t5t6t7.cdn2020.com/video/m3u8/2020/08/14/1efad6ff/0002.ts', 'https://t4t5t6t7.cdn2020.com/video/m3u8/2020/08/14/1efad6ff/0003.ts', 'https://t4t5t6t7.cdn2020.com/video/m3u8/2020/08/14/1efad6ff/0004.ts', 'https://t4t5t6t7.cdn2020.com/video/m3u8/2020/08/14/1efad6ff/0005.ts', 'https://t4t5t6t7.cdn2020.com/video/m3u8/2020/08/14/1efad6ff/0006.ts', 'https://t4t5t6t7.cdn2020.com/video/m3u8/2020/08/14/1efad6ff/0007.ts', 'https://t4t5t6t7.cdn2020.com/video/m3u8/2020/08/14/1efad6ff/0008.ts', 'https://t4t5t6t7.cdn2020.com/video/m3u8/2020/08/14/1efad6ff/0009.ts', 'https://t4t5t6t7.cdn2020.com/video/m3u8/2020/08/14/1efad6ff/0010.ts', 'https://t4t5t6t7.cdn2020.com/video/m3u8/2020/08/14/1efad6ff/0011.ts', 'https://t4t5t6t7.cdn2020.com/video/m3u8/2020/08/14/1efad6ff/0012.ts', 'https://t4t5t6t7.cdn2020.com/video/m3u8/2020/08/14/1efad6ff/0013.ts', 'https://t4t5t6t7.cdn2020.com/video/m3u8/2020/08/14/1efad6ff/0014.ts', 'https://t4t5t6t7.cdn2020.com/video/m3u8/2020/08/14/1efad6ff/0015.ts', 'https://t4t5t6t7.cdn2020.com/video/m3u8/2020/08/14/1efad6ff/0016.ts', 'https://t4t5t6t7.cdn2020.com/video/m3u8/2020/08/14/1efad6ff/0017.ts', 'https://t4t5t6t7.cdn2020.com/video/m3u8/2020/08/14/1efad6ff/0018.ts', 'https://t4t5t6t7.cdn2020.com/video/m3u8/2020/08/14/1efad6ff/0019.ts', 'https://t4t5t6t7.cdn2020.com/video/m3u8/2020/08/14/1efad6ff/0020.ts', 'https://t4t5t6t7.cdn2020.com/video/m3u8/2020/08/14/1efad6ff/0021.ts', 'https://t4t5t6t7.cdn2020.com/video/m3u8/2020/08/14/1efad6ff/0022.ts', 'https://t4t5t6t7.cdn2020.com/video/m3u8/2020/08/14/1efad6ff/0023.ts', 'https://t4t5t6t7.cdn2020.com/video/m3u8/2020/08/14/1efad6ff/0024.ts', 'https://t4t5t6t7.cdn2020.com/video/m3u8/2020/08/14/1efad6ff/0025.ts', 'https://t4t5t6t7.cdn2020.com/video/m3u8/2020/08/14/1efad6ff/0026.ts', 'https://t4t5t6t7.cdn2020.com/video/m3u8/2020/08/14/1efad6ff/0027.ts', 'https://t4t5t6t7.cdn2020.com/video/m3u8/2020/08/14/1efad6ff/0028.ts', 'https://t4t5t6t7.cdn2020.com/video/m3u8/2020/08/14/1efad6ff/0029.ts']\n"
     ]
    }
   ],
   "source": [
    "import os\n",
    "import re\n",
    "from Crypto.Cipher import AES\n",
    "import wget\n",
    "from utils.analyzer import Analyzer\n",
    "\n",
    "url = \"https://t4t5t6t7.cdn2020.com/video/m3u8/2020/08/14/1efad6ff/index.m3u8\"\n",
    "anal = Analyzer(url, \"store/10\", 1)\n",
    "\n",
    "for i, _ in enumerate(anal.ts_url_list):\n",
    "    wget.download(_, f\"store/10/{i+1}.ts\")\n",
    "    print(_)\n"
   ]
  }
 ],
 "metadata": {
  "kernelspec": {
   "display_name": "Python 3",
   "language": "python",
   "name": "python3"
  },
  "language_info": {
   "codemirror_mode": {
    "name": "ipython",
    "version": 2
   },
   "file_extension": ".py",
   "mimetype": "text/x-python",
   "name": "python",
   "nbconvert_exporter": "python",
   "pygments_lexer": "ipython2",
   "version": "3.7.0"
  }
 },
 "nbformat": 4,
 "nbformat_minor": 0
}