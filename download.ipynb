{
 "cells": [
  {
   "cell_type": "code",
   "execution_count": 3,
   "metadata": {
    "collapsed": true,
    "pycharm": {
     "name": "#%%\n"
    }
   },
   "outputs": [],
   "source": [
    "import os\n"
   ]
  },
  {
   "cell_type": "code",
   "execution_count": 7,
   "metadata": {
    "collapsed": false,
    "pycharm": {
     "name": "#%%\n"
    }
   },
   "outputs": [],
   "source": [
    "from pathlib import Path\n",
    "\n",
    "abs_dir = os.path.abspath(\".\")\n",
    "dir_path = Path(abs_dir)\n",
    "dir_list = [\"store\", \"ts\"]\n",
    "\n",
    "\n",
    "def prepare():\n",
    "    for d in dir_list:\n",
    "        if not os.path.exists(d):\n",
    "            os.mkdir(dir_path / d)\n",
    "\n",
    "\n",
    "prepare()"
   ]
  },
  {
   "cell_type": "code",
   "execution_count": 1,
   "metadata": {
    "collapsed": false,
    "pycharm": {
     "name": "#%%\n"
    }
   },
   "outputs": [
    {
     "ename": "FileNotFoundError",
     "evalue": "[Errno 2] No such file or directory: 'm3u8.m3u8'",
     "output_type": "error",
     "traceback": [
      "\u001b[1;31m---------------------------------------------------------------------------\u001b[0m",
      "\u001b[1;31mFileNotFoundError\u001b[0m                         Traceback (most recent call last)",
      "\u001b[1;32m<ipython-input-1-8403da1aff46>\u001b[0m in \u001b[0;36m<module>\u001b[1;34m()\u001b[0m\n\u001b[0;32m    175\u001b[0m \u001b[1;33m\u001b[0m\u001b[0m\n\u001b[0;32m    176\u001b[0m \u001b[0mm3u8_url\u001b[0m \u001b[1;33m=\u001b[0m \u001b[0minput\u001b[0m\u001b[1;33m(\u001b[0m\u001b[1;34m\"url: \"\u001b[0m\u001b[1;33m)\u001b[0m\u001b[1;33m\u001b[0m\u001b[0m\n\u001b[1;32m--> 177\u001b[1;33m \u001b[1;32mwith\u001b[0m \u001b[0mopen\u001b[0m\u001b[1;33m(\u001b[0m\u001b[1;34m\"m3u8.m3u8\"\u001b[0m\u001b[1;33m,\u001b[0m \u001b[1;34m'r'\u001b[0m\u001b[1;33m)\u001b[0m \u001b[1;32mas\u001b[0m \u001b[0mf\u001b[0m\u001b[1;33m:\u001b[0m\u001b[1;33m\u001b[0m\u001b[0m\n\u001b[0m\u001b[0;32m    178\u001b[0m     \u001b[0mm3u8_text\u001b[0m \u001b[1;33m=\u001b[0m \u001b[0mf\u001b[0m\u001b[1;33m.\u001b[0m\u001b[0mread\u001b[0m\u001b[1;33m(\u001b[0m\u001b[1;33m)\u001b[0m\u001b[1;33m\u001b[0m\u001b[0m\n\u001b[0;32m    179\u001b[0m     \u001b[0mdownload\u001b[0m\u001b[1;33m.\u001b[0m\u001b[0mdownload_by_m3u8\u001b[0m\u001b[1;33m(\u001b[0m\u001b[0mm3u8_url\u001b[0m\u001b[1;33m,\u001b[0m \u001b[0mm3u8_text\u001b[0m\u001b[1;33m)\u001b[0m\u001b[1;33m\u001b[0m\u001b[0m\n",
      "\u001b[1;31mFileNotFoundError\u001b[0m: [Errno 2] No such file or directory: 'm3u8.m3u8'"
     ]
    }
   ],
   "source": [
    "\n",
    "from typing import Optional\n",
    "import yaml\n",
    "\n",
    "del_list = [\"prepare-\", \"-prepare\", \"\"]\n",
    "\n",
    "\n",
    "class Download:\n",
    "    MAX_THREAD_NUM = 20\n",
    "\n",
    "    def __init__(self):\n",
    "        self.fail_count = 0\n",
    "        self.name = None\n",
    "        self.setup()\n",
    "\n",
    "    def setup(self):\n",
    "        pass\n",
    "\n",
    "    @staticmethod\n",
    "    def download(self):\n",
    "        pass\n",
    "\n",
    "    @staticmethod\n",
    "    def get_key_url(m3u8_url, m3u8_text):\n",
    "        key_url = None\n",
    "        res = re.search('URI=\".*\"', m3u8_text)\n",
    "        if res:\n",
    "            key_url_part = res.group()[5:-1]\n",
    "            if \"http\" in key_url_part:\n",
    "                return key_url_part\n",
    "            for i in range(1, 10):\n",
    "                m3u8_url_part = \"\".join(m3u8_url.rsplit(\"/\", i)[0])\n",
    "                key_url = m3u8_url_part + '/' + key_url_part\n",
    "                response = requests.get(key_url)\n",
    "                if response.status_code == 200:\n",
    "                    break\n",
    "            return key_url\n",
    "        else:\n",
    "            return None\n",
    "\n",
    "    def get_key(self, m3u8_url, m3u8_text):\n",
    "        key_url = self.get_key_url(m3u8_url, m3u8_text)\n",
    "        if key_url is None:\n",
    "            raise Exception(\"key url not found or not accessible\")\n",
    "        res = requests.get(key_url)\n",
    "        return res.content\n",
    "\n",
    "    @staticmethod\n",
    "    def get_iv(m3u8_text) -> Optional[bytes]:\n",
    "        res = re.search(\"IV=.*\\n\", m3u8_text)\n",
    "        if res:\n",
    "            return bytes.fromhex(res.group()[5:-1])\n",
    "        else:\n",
    "            return None\n",
    "\n",
    "    def download_by_m3u8(self, m3u8_url, m3u8_text):\n",
    "        def deal_url(url):\n",
    "            url = url.split(\".m3u8\")[0] + \".m3u8\"\n",
    "            for s in del_list:\n",
    "                url = url.replace(s, '')\n",
    "            return url\n",
    "\n",
    "        m3u8_url = deal_url(m3u8_url)\n",
    "\n",
    "        with open(\"record.yaml\", 'r') as f:\n",
    "            record = yaml.safe_load(f)\n",
    "        if m3u8_url in record.keys():\n",
    "            name = record[m3u8_url]\n",
    "            if name in os.listdir(\"store\"):\n",
    "                print(\"downloaded before\")\n",
    "                return\n",
    "\n",
    "        dir_list = []\n",
    "        for d in os.listdir(\"store\"):\n",
    "            if os.path.isdir(\"store/\" + d):\n",
    "                dir_list.append(d)\n",
    "        dir_list.sort(key=int)\n",
    "        if dir_list:\n",
    "            name = str(int(dir_list[-1]) + 1)\n",
    "        else:\n",
    "            name = \"1\"\n",
    "        os.mkdir(\"store/\" + name)\n",
    "        self.name = name\n",
    "\n",
    "        with open(\"store/\" + self.name + '/' + \"url.txt\", 'w') as f:\n",
    "            f.write(m3u8_url)\n",
    "\n",
    "        record[m3u8_url] = self.name\n",
    "        with open(\"record.yaml\", 'w') as f:\n",
    "            yaml.dump(record, f)\n",
    "\n",
    "        self._download_ts(m3u8_url, m3u8_text)\n",
    "\n",
    "    def _download_ts(self, m3u8_url, m3u8_text):\n",
    "        ts_url_part_list = re.findall(\".*.ts\", m3u8_text)\n",
    "        print(\"ts_url_part_list:\", ts_url_part_list)\n",
    "        test_part = ts_url_part_list[0]\n",
    "\n",
    "        m3u8_url_part = ''\n",
    "        if \"http\" not in test_part:\n",
    "            for i in range(1, 10):\n",
    "                m3u8_url_part = \"\".join(m3u8_url.rsplit(\"/\", i)[0])\n",
    "                url = m3u8_url_part + '/' + test_part\n",
    "                response = requests.get(url)\n",
    "                if response.status_code == 200:\n",
    "                    break\n",
    "            m3u8_url_part = m3u8_url_part + '/'\n",
    "            print(\"m3u8_url_part:\", m3u8_url_part)\n",
    "\n",
    "        ts_head = ''\n",
    "        for i in range(1, len(test_part) + 1):\n",
    "            url = m3u8_url_part + test_part[:-3 - i] + '0.ts'\n",
    "            response = requests.get(url)\n",
    "            if response.status_code == 200:\n",
    "                ts_head = test_part[:-3 - i]\n",
    "            elif response.status_code == 404:\n",
    "                break\n",
    "            else:\n",
    "                raise Exception(\"net error\")\n",
    "\n",
    "        ts_url_part = m3u8_url_part + ts_head\n",
    "        print(\"ts_url_part\", ts_url_part)\n",
    "\n",
    "        key = self.get_key(m3u8_url, m3u8_text)\n",
    "        iv = self.get_iv(m3u8_text)\n",
    "        print(f\"key: {key}, iv: {iv}\")\n",
    "        cipher = AES.new(key, AES.MODE_CBC, iv)\n",
    "\n",
    "        self.fail_count = 0\n",
    "\n",
    "        def download_ts(url, out):\n",
    "            response = requests.get(url, out)\n",
    "            if response.status_code == 200:\n",
    "                print(url)\n",
    "                import time\n",
    "                print(time.ctime())\n",
    "                with open(out, \"wb\") as f:\n",
    "                    content = cipher.decrypt(response.content)\n",
    "                    f.write(content)\n",
    "            else:\n",
    "                self.fail_count += 1\n",
    "\n",
    "        thread_list = []\n",
    "        for i in range(10000):\n",
    "            url = ts_url_part + str(i) + \".ts\"\n",
    "            out = \"store/\" + self.name + '/' + str(i) + \".ts\"\n",
    "            if len(thread_list) <= self.MAX_THREAD_NUM:\n",
    "                thread = Thread(target=download_ts, args=(url, out))\n",
    "                thread_list.append(thread)\n",
    "            else:\n",
    "                thread = Thread(target=download_ts, args=(url, out))\n",
    "                thread_list.append(thread)\n",
    "                for thread in thread_list:\n",
    "                    thread.start()\n",
    "                for thread in thread_list:\n",
    "                    thread.join()\n",
    "                thread_list.clear()\n",
    "            if self.fail_count > 30:\n",
    "                break\n",
    "        print(f\"download ok, downloaded {len(os.listdir('store/' + self.name))}\")\n",
    "\n",
    "        for file in os.listdir(\"store/\" + self.name):\n",
    "            with open(\"ts/\" + self.name + \".ts\", \"wb\") as l_f:\n",
    "                with open(\"store/\" + self.name + '/' + file, \"rb\") as s_f:\n",
    "                    l_f.write(s_f.read())\n",
    "\n",
    "    @staticmethod\n",
    "    def decode_ts(encoded_data: str, key: bytes, iv: bytes = None):\n",
    "        cipher = AES.new(key, AES.MODE_CBC, iv)\n",
    "        plain_data = cipher.decrypt(encoded_data)\n",
    "        return plain_data\n",
    "\n",
    "\n",
    "download = Download()\n",
    "\n",
    "m3u8_url = input(\"url: \")\n",
    "with open(\"m3u8.m3u8\", 'r') as f:\n",
    "    m3u8_text = f.read()\n",
    "    download.download_by_m3u8(m3u8_url, m3u8_text)"
   ]
  },
  {
   "cell_type": "code",
   "execution_count": 13,
   "metadata": {
    "collapsed": false,
    "pycharm": {
     "name": "#%%\n"
    }
   },
   "outputs": [
    {
     "name": "stdout",
     "output_type": "stream",
     "text": [
      "0.ts\n",
      "1.ts\n",
      "2.ts\n",
      "3.ts\n",
      "4.ts\n",
      "5.ts\n",
      "6.ts\n",
      "7.ts\n",
      "8.ts\n",
      "9.ts\n",
      "10.ts\n",
      "11.ts\n"
     ]
    }
   ],
   "source": [
    "import os\n",
    "\n",
    "with open(\"ts/1\" + \".ts\", \"wb\") as l_f:\n",
    "    file_list = os.listdir(\"store/1\")\n",
    "    file_list.sort(key=lambda x: int(x.replace(\".ts\", \"\")) if \".ts\" in x else 0)\n",
    "    for file in file_list:\n",
    "        if \".ts\" in file:\n",
    "            print(file)\n",
    "            with open(\"store/1\" + '/' + file, \"rb\") as s_f:\n",
    "                l_f.write(s_f.read())"
   ]
  },
  {
   "cell_type": "code",
   "execution_count": 1,
   "metadata": {
    "collapsed": false,
    "pycharm": {
     "name": "#%%\n"
    }
   },
   "outputs": [
    {
     "ename": "SyntaxError",
     "evalue": "EOL while scanning string literal (2583625225.py, line 7)",
     "output_type": "error",
     "traceback": [
      "\u001b[1;36m  Cell \u001b[1;32mIn [1], line 7\u001b[1;36m\u001b[0m\n\u001b[1;33m    \"https://oss.fstsc.xyz/20221226/aIJn0XR9/4023kb/hls/index.m3u8\"\"\u001b[0m\n\u001b[1;37m                                                                    ^\u001b[0m\n\u001b[1;31mSyntaxError\u001b[0m\u001b[1;31m:\u001b[0m EOL while scanning string literal\n"
     ]
    }
   ],
   "source": [
    "\"https://oss.fstsc.xyz/20221020/BtOeZi79/index.m3u8\"\n",
    "\"https://oss.fstsc.xyz/20221124/jKE35AmG/index.m3u8\"\n",
    "\"https://oss.fstsc.xyz/20221019/rNIRLkA7/5121kb/hls/index.m3u8\"\n",
    "\"https://oss.fstsc.xyz/20230116/RAlcaGBG/3344kb/hls/index.m3u8\"\n",
    "\"https://oss.fstsc.xyz/20230113/UHJSRPO3/index.m3u8\"\n",
    "\"https://oss.fstsc.xyz/20230122/t1dRT4M0/3353kb/hls/index.m3u8\"\n",
    "\"https://oss.fstsc.xyz/20221226/aIJn0XR9/4023kb/hls/index.m3u8\""
   ]
  },
  {
   "cell_type": "code",
   "execution_count": 3,
   "metadata": {
    "collapsed": false,
    "pycharm": {
     "name": "#%%\n"
    }
   },
   "outputs": [
    {
     "data": {
      "text/plain": [
       "'./test (1).m3u8'"
      ]
     },
     "execution_count": 3,
     "metadata": {},
     "output_type": "execute_result"
    }
   ],
   "source": [
    "import wget\n",
    "\n",
    "wget.download(\"https://oss.fstsc.xyz/20221020/BtOeZi79/4065kb/hls/index.m3u8\", \"./test.m3u8\")"
   ]
  },
  {
   "cell_type": "code",
   "execution_count": 4,
   "metadata": {
    "collapsed": false,
    "pycharm": {
     "name": "#%%\n"
    }
   },
   "outputs": [
    {
     "data": {
      "text/plain": [
       "'./test.jpg'"
      ]
     },
     "execution_count": 4,
     "metadata": {},
     "output_type": "execute_result"
    }
   ],
   "source": [
    "wget.download(\"https://oss.fstsc.xyz/20221020/BtOeZi79/4065kb/hls/1HAqreFn.jpg\", \"./test.jpg\")"
   ]
  },
  {
   "cell_type": "code",
   "execution_count": 5,
   "metadata": {
    "collapsed": false,
    "pycharm": {
     "name": "#%%\n"
    }
   },
   "outputs": [],
   "source": [
    "head = \"https://oss.fstsc.xyz\""
   ]
  },
  {
   "cell_type": "code",
   "execution_count": 6,
   "metadata": {
    "collapsed": false,
    "pycharm": {
     "name": "#%%\n"
    }
   },
   "outputs": [
    {
     "data": {
      "text/plain": [
       "'./key.key'"
      ]
     },
     "execution_count": 6,
     "metadata": {},
     "output_type": "execute_result"
    }
   ],
   "source": [
    "key_url = head + \"/20221020/BtOeZi79/4065kb/hls/key.key\"\n",
    "wget.download(key_url, \"./key.key\")"
   ]
  },
  {
   "cell_type": "code",
   "execution_count": 31,
   "metadata": {
    "collapsed": false,
    "pycharm": {
     "name": "#%%\n"
    }
   },
   "outputs": [
    {
     "name": "stdout",
     "output_type": "stream",
     "text": [
      "\"/20221020/BtOeZi79/4065kb/hls/key.key\n"
     ]
    }
   ],
   "source": [
    "from threading import Thread\n",
    "import os\n",
    "import re\n",
    "import shutil\n",
    "from Crypto.Cipher import AES\n",
    "import requests\n",
    "\n",
    "m3u8_url = \"https://oss.fstsc.xyz/20221020/BtOeZi79/index.m3u8\"\n",
    "head = ''\n",
    "name = ''\n",
    "key = ''\n",
    "ts_name_list = []\n",
    "\n",
    "\n",
    "def get_url(ord_url):\n",
    "    global head\n",
    "    head = \"/\".join(ord_url.split(\"/\", 3)[:3])\n",
    "\n",
    "    text = requests.get(ord_url).text\n",
    "    text = text.split('\\n')\n",
    "    for l in text:\n",
    "        if \".m3u8\" in l:\n",
    "            return head + l\n",
    "\n",
    "\n",
    "def decode_and_download(url, path):\n",
    "    encoded_data = requests.get(url).content\n",
    "    cipher = AES.new(key, AES.MODE_CBC, b\"0000000000000000\")\n",
    "    data = cipher.decrypt(encoded_data)\n",
    "    with open(path, 'wb') as f:\n",
    "        f.write(data)\n",
    "\n",
    "\n",
    "def download(url):\n",
    "    dir_list = os.listdir(\"ts\")\n",
    "    dir_list.sort(key=lambda x: int(x.replace(\".ts\", '')))\n",
    "    global name\n",
    "    if dir_list:\n",
    "        name = str(int(dir_list[-1].replace(\".ts\", '')) + 1)\n",
    "    else:\n",
    "        name = '1'\n",
    "\n",
    "    MAX_THREAD_NUM = 20\n",
    "    text = requests.get(url).text\n",
    "    text_lines = text.split('\\n')\n",
    "    key_part = None\n",
    "    for l in text_lines:\n",
    "        if \".key\" in l:\n",
    "            res = l.find(\"URI=\")\n",
    "            key_part = l[res + 5:-1]\n",
    "    global key\n",
    "    key = requests.get(head + key_part).content\n",
    "\n",
    "    thread_list = []\n",
    "    for l in text_lines:\n",
    "        if len(thread_list) <= MAX_THREAD_NUM:\n",
    "            if \".jpg\" in l:\n",
    "                l = l.replace(\".jpg\", '.ts')\n",
    "                ts_name = l.rsplit('/', 1)[-1]\n",
    "                ts_name_list.append(ts_name)\n",
    "                thread = Thread(target=decode_and_download, args=((head + l), \"store/\" + name + '/' + ts_name))\n",
    "                thread_list.append(thread)\n",
    "        else:\n",
    "            # for thread in thread_list:\n",
    "            #     thread.start()\n",
    "            # for thread in thread_list:\n",
    "            #     thread.join()\n",
    "            thread_list.clear()\n",
    "    with open(\"ts/\" + name + '.ts') as ts:\n",
    "        for ts_name in ts_name_list:\n",
    "            path = \"store/\" + name + '/' + ts_name\n",
    "            with open(path, \"wb\") as f:\n",
    "                ts.write(f.read())\n",
    "    shutil.rmtree(\"store\")\n",
    "\n",
    "\n",
    "url = get_url(m3u8_url)\n",
    "download(url)"
   ]
  },
  {
   "cell_type": "code",
   "execution_count": 32,
   "metadata": {
    "collapsed": false,
    "pycharm": {
     "name": "#%%\n"
    }
   },
   "outputs": [
    {
     "name": "stdout",
     "output_type": "stream",
     "text": [
      "['download.ipynb', 'download.py', 'key.key', 'record.yaml', 'store', 'test (1).m3u8', 'test.ipynb', 'test.py', 'test.ts', 'ts']\n"
     ]
    }
   ],
   "source": []
  }
 ],
 "metadata": {
  "kernelspec": {
   "display_name": "Python 3",
   "language": "python",
   "name": "python3"
  },
  "language_info": {
   "codemirror_mode": {
    "name": "ipython",
    "version": 3
   },
   "file_extension": ".py",
   "mimetype": "text/x-python",
   "name": "python",
   "nbconvert_exporter": "python",
   "pygments_lexer": "ipython3",
   "version": "3.7.0"
  }
 },
 "nbformat": 4,
 "nbformat_minor": 0
}
